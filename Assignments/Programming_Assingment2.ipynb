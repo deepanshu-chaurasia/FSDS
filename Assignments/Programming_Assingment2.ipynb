{
 "cells": [
  {
   "cell_type": "markdown",
   "id": "15a2ecec",
   "metadata": {},
   "source": [
    "# 1. Write a Python program to convert kilometers to miles?"
   ]
  },
  {
   "cell_type": "code",
   "execution_count": 7,
   "id": "c286e5e3",
   "metadata": {},
   "outputs": [
    {
     "name": "stdout",
     "output_type": "stream",
     "text": [
      "kilometers: 10\n",
      "Miles: 6.21\n"
     ]
    }
   ],
   "source": [
    "# Kilometer to Miles\n",
    "# 1 mile = 1.609344 kms\n",
    "\n",
    "km = float(input(\"kilometers: \"))\n",
    "\n",
    "miles = round((km / 1.609344),2)\n",
    "\n",
    "print(\"Miles: \" + str(miles))\n"
   ]
  },
  {
   "cell_type": "markdown",
   "id": "34aef490",
   "metadata": {},
   "source": [
    "# 2. Write a Python program to convert Celsius to Fahrenheit?"
   ]
  },
  {
   "cell_type": "code",
   "execution_count": 9,
   "id": "6fba13a5",
   "metadata": {},
   "outputs": [
    {
     "name": "stdout",
     "output_type": "stream",
     "text": [
      "Celsius: 37\n",
      "Fahrenheit: 98.6\n"
     ]
    }
   ],
   "source": [
    "# Celsius to Fahrenheit\n",
    "# F = 1.8C + 32\n",
    "\n",
    "\n",
    "celsius = float(input(\"Celsius: \"))\n",
    "\n",
    "fh = round(((1.8 * celsius) + 32),2)\n",
    "\n",
    "print(\"Fahrenheit: \" + str(fh))"
   ]
  },
  {
   "cell_type": "markdown",
   "id": "66efca2b",
   "metadata": {},
   "source": [
    "# 3. Write a Python program to display calendar?"
   ]
  },
  {
   "cell_type": "code",
   "execution_count": 11,
   "id": "20516bb8",
   "metadata": {},
   "outputs": [
    {
     "name": "stdout",
     "output_type": "stream",
     "text": [
      "     June 2022\n",
      "Mo Tu We Th Fr Sa Su\n",
      "       1  2  3  4  5\n",
      " 6  7  8  9 10 11 12\n",
      "13 14 15 16 17 18 19\n",
      "20 21 22 23 24 25 26\n",
      "27 28 29 30\n",
      "\n"
     ]
    }
   ],
   "source": [
    "import calendar\n",
    "yr = 2022\n",
    "mo = 6\n",
    "\n",
    "print(calendar.month(yr,mo))"
   ]
  },
  {
   "cell_type": "markdown",
   "id": "98a7417b",
   "metadata": {},
   "source": [
    "# 4. Write a Python program to solve quadratic equation?"
   ]
  },
  {
   "cell_type": "code",
   "execution_count": 15,
   "id": "b89c87c0",
   "metadata": {},
   "outputs": [
    {
     "name": "stdout",
     "output_type": "stream",
     "text": [
      "a: 1\n",
      "b: -45\n",
      "c: 324\n",
      "[36.0, 9.0]\n"
     ]
    }
   ],
   "source": [
    "# Quadratic Equation: ax^2+bx+c=0\n",
    "a = int(input(\"a: \"))\n",
    "b = int(input(\"b: \"))\n",
    "c = int(input(\"c: \"))\n",
    "x = []\n",
    "d = (b ** 2) - (4 * a * c)\n",
    "\n",
    "temp1 = ((-b) + (d**0.5))/2*a\n",
    "temp2 = ((-b) - (d**0.5))/2*a\n",
    "x.append(temp1)\n",
    "x.append(temp2)\n",
    "print(x)"
   ]
  },
  {
   "cell_type": "markdown",
   "id": "b58b795d",
   "metadata": {},
   "source": [
    "# 5. Write a Python program to swap two variables without temp variable?"
   ]
  },
  {
   "cell_type": "code",
   "execution_count": 16,
   "id": "a7f6b58c",
   "metadata": {},
   "outputs": [
    {
     "name": "stdout",
     "output_type": "stream",
     "text": [
      "a: 5161\n",
      "b: 6548\n",
      "After swap \n",
      "a = 6548\n",
      "b = 5161\n"
     ]
    }
   ],
   "source": [
    "#Swapping\n",
    "a = int(input(\"a: \" ))\n",
    "b = int(input(\"b: \" ))\n",
    "a = a + b\n",
    "b = a - b\n",
    "a = a - b\n",
    "print(\"After swap \\na = \" + str(a))\n",
    "print(\"b = \" + str(b))"
   ]
  },
  {
   "cell_type": "code",
   "execution_count": null,
   "id": "5f64ed5b",
   "metadata": {},
   "outputs": [],
   "source": []
  }
 ],
 "metadata": {
  "kernelspec": {
   "display_name": "Python 3 (ipykernel)",
   "language": "python",
   "name": "python3"
  },
  "language_info": {
   "codemirror_mode": {
    "name": "ipython",
    "version": 3
   },
   "file_extension": ".py",
   "mimetype": "text/x-python",
   "name": "python",
   "nbconvert_exporter": "python",
   "pygments_lexer": "ipython3",
   "version": "3.9.12"
  }
 },
 "nbformat": 4,
 "nbformat_minor": 5
}
