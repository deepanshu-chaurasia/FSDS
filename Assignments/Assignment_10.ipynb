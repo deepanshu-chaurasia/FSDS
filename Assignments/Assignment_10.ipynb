{
 "cells": [
  {
   "cell_type": "markdown",
   "id": "34bf9de5",
   "metadata": {},
   "source": [
    "# 1. How do you distinguish between shutil.copy() and shutil.copytree()?"
   ]
  },
  {
   "cell_type": "markdown",
   "id": "9a35b11c",
   "metadata": {},
   "source": [
    "shutil.copy() method in Python is used to copy the content of source file to destination file or directory. It also preserves the file’s permission mode but other metadata of the file like the file’s creation and modification times is not preserved. \n",
    "\n",
    "shutil.copytree() method recursively copies an entire directory tree rooted at source (src) to the destination directory. It will copy an entire folder, along with all its contents."
   ]
  },
  {
   "cell_type": "markdown",
   "id": "8b000daf",
   "metadata": {},
   "source": [
    "# 2. What function is used to rename files??"
   ]
  },
  {
   "cell_type": "markdown",
   "id": "61f7b5ba",
   "metadata": {},
   "source": [
    "rename() method is used to rename a file or directory. This method is a part of the os module. \n",
    "\n",
    "shutil.move() function is used for renaming files also, as well as moving them."
   ]
  },
  {
   "cell_type": "markdown",
   "id": "e68308ca",
   "metadata": {},
   "source": [
    "# 3. What is the difference between the delete functions in the send2trash and shutil modules?"
   ]
  },
  {
   "cell_type": "markdown",
   "id": "cf25ff0d",
   "metadata": {},
   "source": [
    "send2trash module sends the deleted file to the recyle bin.\n",
    "\n",
    "shutil module deletes a file permanently."
   ]
  },
  {
   "cell_type": "markdown",
   "id": "478b4a05",
   "metadata": {},
   "source": [
    "# 4.ZipFile objects have a close() method just like File objects’ close() method. What ZipFile method is equivalent to File objects’ open() method?"
   ]
  },
  {
   "cell_type": "markdown",
   "id": "ba27c327",
   "metadata": {},
   "source": [
    "zipfile.ZipFile() function is equivalent to the open() function.\n",
    "\n",
    "The zipfile.ZipFile() takes filename as the first argument and the second argument is the mode to open the ZIP file in (read, write, or append)."
   ]
  },
  {
   "cell_type": "markdown",
   "id": "6f91dcbc",
   "metadata": {},
   "source": [
    "# 5. Create a programme that searches a folder tree for files with a certain file extension (such as .pdf or .jpg). Copy these files from whatever location they are in to a new folder."
   ]
  },
  {
   "cell_type": "code",
   "execution_count": 3,
   "id": "b379c75d",
   "metadata": {},
   "outputs": [
    {
     "name": "stdout",
     "output_type": "stream",
     "text": [
      "Looking in C:\\Users\\deepa\\randomFolder for files with extensions of .pdf, .jpg\n",
      "Coping C:\\Users\\deepa\\randomFolder\\alan-turing-wallpaper.jpg to C:\\Users\\deepa\\selectiveFolder\n",
      "Coping C:\\Users\\deepa\\randomFolder\\DP-900 (1).pdf to C:\\Users\\deepa\\selectiveFolder\n",
      "Coping C:\\Users\\deepa\\randomFolder\\DP-900.pdf to C:\\Users\\deepa\\selectiveFolder\n",
      "Coping C:\\Users\\deepa\\randomFolder\\meditation.jpg to C:\\Users\\deepa\\selectiveFolder\n"
     ]
    }
   ],
   "source": [
    "import os, shutil\n",
    "\n",
    "def selectiveCopy(folder, extensions, destFolder):\n",
    "    folder = os.path.abspath(folder)\n",
    "    destFolder = os.path.abspath(destFolder)\n",
    "    print('Looking in', folder, 'for files with extensions of', ', '.join(extensions))\n",
    "    for foldername, subfolders, filenames in os.walk(folder):\n",
    "        for filename in filenames:\n",
    "            name, extension = os.path.splitext(filename)\n",
    "            if extension in extensions:\n",
    "                fileAbsPath = foldername + os.path.sep + filename\n",
    "                print('Coping', fileAbsPath, 'to', destFolder)\n",
    "                shutil.copy(fileAbsPath, destFolder)\n",
    "\n",
    "extensions = ['.pdf', '.jpg']\n",
    "folder = 'randomFolder'\n",
    "destFolder = 'selectiveFolder'\n",
    "selectiveCopy(folder, extensions, destFolder)"
   ]
  },
  {
   "cell_type": "code",
   "execution_count": null,
   "id": "5805c3b4",
   "metadata": {},
   "outputs": [],
   "source": []
  }
 ],
 "metadata": {
  "kernelspec": {
   "display_name": "Python 3 (ipykernel)",
   "language": "python",
   "name": "python3"
  },
  "language_info": {
   "codemirror_mode": {
    "name": "ipython",
    "version": 3
   },
   "file_extension": ".py",
   "mimetype": "text/x-python",
   "name": "python",
   "nbconvert_exporter": "python",
   "pygments_lexer": "ipython3",
   "version": "3.9.12"
  }
 },
 "nbformat": 4,
 "nbformat_minor": 5
}
