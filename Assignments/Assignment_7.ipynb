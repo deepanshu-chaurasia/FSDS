{
 "cells": [
  {
   "cell_type": "markdown",
   "id": "c252eda2",
   "metadata": {},
   "source": [
    "# 1. What is the name of the feature responsible for generating Regex objects?"
   ]
  },
  {
   "cell_type": "markdown",
   "id": "23741cb8",
   "metadata": {},
   "source": [
    "'re' package is imported for using regular expression.\n",
    "\n",
    "re.compile() function returns Regex Objects."
   ]
  },
  {
   "cell_type": "markdown",
   "id": "28ec8787",
   "metadata": {},
   "source": [
    "# 2. Why do raw strings often appear in Regex objects?"
   ]
  },
  {
   "cell_type": "markdown",
   "id": "9ba4b426",
   "metadata": {},
   "source": [
    "Python raw string is created by prefixing a string literal with 'r'. Raw strings often appear in Regex objects because python raw string treats backslash (\\) as a literal character.\n"
   ]
  },
  {
   "cell_type": "code",
   "execution_count": 13,
   "id": "0b10c27c",
   "metadata": {},
   "outputs": [
    {
     "data": {
      "text/plain": [
       "'and\\\\or'"
      ]
     },
     "execution_count": 13,
     "metadata": {},
     "output_type": "execute_result"
    }
   ],
   "source": [
    "import re\n",
    "txt = r'and\\or'\n",
    "txt"
   ]
  },
  {
   "cell_type": "markdown",
   "id": "badafa17",
   "metadata": {},
   "source": [
    "# 3. What is the return value of the search() method?"
   ]
  },
  {
   "cell_type": "markdown",
   "id": "dd5eb0d8",
   "metadata": {},
   "source": [
    "Python re.search() is an inbuilt regex function takes two parameters, that searches the string for a match and returns the match object if there is a match."
   ]
  },
  {
   "cell_type": "code",
   "execution_count": 20,
   "id": "89f9f0ad",
   "metadata": {},
   "outputs": [
    {
     "name": "stdout",
     "output_type": "stream",
     "text": [
      "this is a\n",
      "new text.\n",
      "The first newlinw character is located in position: 9\n"
     ]
    }
   ],
   "source": [
    "import re\n",
    "\n",
    "txt = \"this is a\\nnew text.\"\n",
    "print(txt)\n",
    "sub_str = re.search(\"\\n\", txt)\n",
    "\n",
    "print(\"The first newlinw character is located in position:\", sub_str.start())"
   ]
  },
  {
   "cell_type": "markdown",
   "id": "9abfabde",
   "metadata": {},
   "source": [
    "# 4. From a Match item, how do you get the actual strings that match the pattern?"
   ]
  },
  {
   "cell_type": "code",
   "execution_count": null,
   "id": "b103a62c",
   "metadata": {},
   "outputs": [],
   "source": [
    "The group() method returns strings of the matched text."
   ]
  },
  {
   "cell_type": "code",
   "execution_count": 21,
   "id": "01e78149",
   "metadata": {},
   "outputs": [
    {
     "data": {
      "text/plain": [
       "('27', '1835')"
      ]
     },
     "execution_count": 21,
     "metadata": {},
     "output_type": "execute_result"
    }
   ],
   "source": [
    "m = re.match(r\"(\\d+)\\.(\\d+)\", \"27.1835\")\n",
    "m.groups()\n",
    "('27', '1835')\n"
   ]
  },
  {
   "cell_type": "markdown",
   "id": "fa098839",
   "metadata": {},
   "source": [
    "# 5. In the regex which created from the r&#39;(\\d\\d\\d)-(\\d\\d\\d-\\d\\d\\d\\d)&#39;, what does group zero cover? Group 2? Group 1?"
   ]
  },
  {
   "cell_type": "markdown",
   "id": "c9713165",
   "metadata": {},
   "source": [
    "Group 0 is the entire match, group 1 covers the first set of parentheses, and group 2 covers the second set of parentheses."
   ]
  },
  {
   "cell_type": "markdown",
   "id": "7bf62f98",
   "metadata": {},
   "source": [
    "# 6. In standard expression syntax, parentheses and intervals have distinct meanings. How can you tell a regex that you want it to fit real parentheses and periods?"
   ]
  },
  {
   "cell_type": "raw",
   "id": "63b03b2f",
   "metadata": {},
   "source": [
    "Periods and parentheses can be escaped with a backslash: \\., \\(, and \\)."
   ]
  },
  {
   "cell_type": "markdown",
   "id": "7fd3f9b6",
   "metadata": {},
   "source": [
    "# 7. The findall() method returns a string list or a list of string tuples. What causes it to return one of the two options?"
   ]
  },
  {
   "cell_type": "markdown",
   "id": "4fac937a",
   "metadata": {},
   "source": [
    "If the regex has no groups, a list of strings is returned. If the regex has groups, a list of tuples of strings is returned."
   ]
  },
  {
   "cell_type": "code",
   "execution_count": 30,
   "id": "7b0d3143",
   "metadata": {
    "scrolled": true
   },
   "outputs": [
    {
     "data": {
      "text/plain": [
       "list"
      ]
     },
     "execution_count": 30,
     "metadata": {},
     "output_type": "execute_result"
    }
   ],
   "source": [
    "m = re.findall(r\"(\\d+)\\.(\\d+)\", \"27.1835\")\n",
    "type(m)"
   ]
  },
  {
   "cell_type": "code",
   "execution_count": 32,
   "id": "864a3951",
   "metadata": {},
   "outputs": [
    {
     "data": {
      "text/plain": [
       "tuple"
      ]
     },
     "execution_count": 32,
     "metadata": {},
     "output_type": "execute_result"
    }
   ],
   "source": [
    "m = re.match(r\"(\\d+)\\.(\\d+)\", \"27.1835\")\n",
    "type(m.groups())\n"
   ]
  },
  {
   "cell_type": "markdown",
   "id": "05404a72",
   "metadata": {},
   "source": [
    "# 8. In standard expressions, what does the | character mean?"
   ]
  },
  {
   "cell_type": "markdown",
   "id": "efa0b773",
   "metadata": {},
   "source": [
    "| is an \"or\" character."
   ]
  },
  {
   "cell_type": "markdown",
   "id": "b9bd0f3c",
   "metadata": {},
   "source": [
    "# 9. In regular expressions, what does the character stand for?"
   ]
  },
  {
   "cell_type": "markdown",
   "id": "5b69eb58",
   "metadata": {},
   "source": [
    "A character set (or a character class) is a set of characters, for example, digits (from 0 to 9), alphabets (from a to z), and whitespace. A character set allows you to construct regular expressions with patterns that match a string with one or more characters in a set."
   ]
  },
  {
   "cell_type": "markdown",
   "id": "628fe5e0",
   "metadata": {},
   "source": [
    "# 10.In regular expressions, what is the difference between the + and * characters?"
   ]
  },
  {
   "cell_type": "markdown",
   "id": "1c86244a",
   "metadata": {},
   "source": [
    "The + matches one or more. \n",
    "\n",
    "The * matches zero or more."
   ]
  },
  {
   "cell_type": "markdown",
   "id": "c0f58e0d",
   "metadata": {},
   "source": [
    "# 11. What is the difference between {4} and {4,5} in regular expression?"
   ]
  },
  {
   "cell_type": "markdown",
   "id": "cc48e4cc",
   "metadata": {},
   "source": [
    "{4} means match 4 times.\n",
    "\n",
    "{4,5} means match at least 4 time but not more than 5 times."
   ]
  },
  {
   "cell_type": "markdown",
   "id": "a7a3b517",
   "metadata": {},
   "source": [
    "# 12. What do you mean by the \\d, \\w, and \\s shorthand character classes signify in regular expressions?"
   ]
  },
  {
   "cell_type": "markdown",
   "id": "2eaeaafb",
   "metadata": {},
   "source": [
    "\\d - Matches digits. Equivalent to [0-9].\n",
    "\n",
    "\\s - Matches whitespace. Equivalent to [\\t\\n\\r\\f].\n",
    "\n",
    "\\w - Matches word characters."
   ]
  },
  {
   "cell_type": "markdown",
   "id": "b476a43d",
   "metadata": {},
   "source": [
    "# 13. What do means by \\D, \\W, and \\S shorthand character classes signify in regular expressions?"
   ]
  },
  {
   "cell_type": "markdown",
   "id": "7c19b2db",
   "metadata": {},
   "source": [
    "\\D - Matches nondigits\n",
    "\n",
    "\\S - Matches nonwhitespace.\n",
    "\n",
    "\\W - Matches nonword characters."
   ]
  },
  {
   "cell_type": "markdown",
   "id": "3b822647",
   "metadata": {},
   "source": [
    "# 14. What is the difference between .\\*? and .*?"
   ]
  },
  {
   "cell_type": "code",
   "execution_count": null,
   "id": "5d3dc8a7",
   "metadata": {},
   "outputs": [],
   "source": [
    ".*? - Nongreedy repetition, matches as few as possible.\n",
    "\n",
    ".* - Greedy repetition, tries to match as many as possible."
   ]
  },
  {
   "cell_type": "markdown",
   "id": "d68d82e4",
   "metadata": {},
   "source": [
    "# 15. What is the syntax for matching both numbers and lowercase letters with a character class?"
   ]
  },
  {
   "cell_type": "markdown",
   "id": "a800c3e1",
   "metadata": {},
   "source": [
    "Either [0-9a-z] or [a-z0-9]"
   ]
  },
  {
   "cell_type": "markdown",
   "id": "3bb947f7",
   "metadata": {},
   "source": [
    "# 16. What is the procedure for making a normal expression in regax case insensitive?"
   ]
  },
  {
   "cell_type": "markdown",
   "id": "23366b9d",
   "metadata": {},
   "source": [
    "Passing re.I or re.IGNORECASE as the second argument to re.compile() will make the matching case insensitive."
   ]
  },
  {
   "cell_type": "markdown",
   "id": "c62a47c7",
   "metadata": {},
   "source": [
    "# 17. What does the . character normally match? What does it match if re.DOTALL is passed as 2nd argument in re.compile()?"
   ]
  },
  {
   "cell_type": "markdown",
   "id": "c4528e03",
   "metadata": {},
   "source": [
    "The . character normally matches any character except the newline character. \n",
    "\n",
    "If re.DOTALL is passed as the second argument to re.compile(), then the dot will also match newline characters."
   ]
  },
  {
   "cell_type": "markdown",
   "id": "14903ed0",
   "metadata": {},
   "source": [
    "# 18. If numReg = re.compile(r&#39;\\d+&#39;), what will numRegex.sub(&#39;X&#39;, &#39;11 drummers, 10 pipers, five rings, 4 hen&#39;) return?"
   ]
  },
  {
   "cell_type": "code",
   "execution_count": 2,
   "id": "97a8f69d",
   "metadata": {},
   "outputs": [
    {
     "data": {
      "text/plain": [
       "'X drummers, X pipers, five rings, X hen'"
      ]
     },
     "execution_count": 2,
     "metadata": {},
     "output_type": "execute_result"
    }
   ],
   "source": [
    "import re\n",
    "numReg = re.compile(r'\\d+')\n",
    "numReg.sub('X', '11 drummers, 10 pipers, five rings, 4 hen')"
   ]
  },
  {
   "cell_type": "markdown",
   "id": "69b191f9",
   "metadata": {},
   "source": [
    "# 19. What does passing re.VERBOSE as the 2nd argument to re.compile() allow to do?"
   ]
  },
  {
   "cell_type": "markdown",
   "id": "9bcc05bf",
   "metadata": {},
   "source": [
    "The re.VERBOSE argument allows you to add whitespace and comments to the string passed to re.compile()."
   ]
  },
  {
   "cell_type": "markdown",
   "id": "11df85f6",
   "metadata": {},
   "source": [
    "# 20. How would you write a regex that match a number with comma for every three digits? It must match the given following:\n",
    "&#39;42&#39;\n",
    "\n",
    "&#39;1,234&#39;\n",
    "\n",
    "&#39;6,368,745&#39;\n",
    "\n",
    "but not the following:\n",
    "\n",
    "&#39;12,34,567&#39; (which has only two digits between the commas)\n",
    "\n",
    "&#39;1234&#39; (which lacks commas)"
   ]
  },
  {
   "cell_type": "code",
   "execution_count": null,
   "id": "aa69e8de",
   "metadata": {},
   "outputs": [],
   "source": [
    "re.compile(r'^\\d{1,3}(,\\d{3})*$')"
   ]
  },
  {
   "cell_type": "markdown",
   "id": "37de3c95",
   "metadata": {},
   "source": [
    "# 21. How would you write a regex that matches the full name of someone whose last name is Watanabe? You can assume that the first name that comes before it will always be one word that begins with a capital letter. The regex must match the following:\n",
    "&#39;Haruto Watanabe&#39;\n",
    "\n",
    "&#39;Alice Watanabe&#39;\n",
    "\n",
    "&#39;RoboCop Watanabe&#39;\n",
    "\n",
    "#but not the following:\n",
    "\n",
    "&#39;haruto Watanabe&#39; (where the first name is not capitalized)\n",
    "\n",
    "&#39;Mr. Watanabe&#39; (where the preceding word has a nonletter character)\n",
    "\n",
    "&#39;Watanabe&#39; (which has no first name)\n",
    "\n",
    "&#39;Haruto watanabe&#39; (where Watanabe is not capitalized)"
   ]
  },
  {
   "cell_type": "code",
   "execution_count": null,
   "id": "73f17c6f",
   "metadata": {},
   "outputs": [],
   "source": [
    "re.compile(r'[A-Z][a-z]*\\sWatanabe')"
   ]
  },
  {
   "cell_type": "markdown",
   "id": "0aee030a",
   "metadata": {},
   "source": [
    "# 22. How would you write a regex that matches a sentence where the first word is either Alice, Bob, or Carol; the second word is either eats, pets, or throws; the third word is apples, cats, or baseballs; and the sentence ends with a period? This regex should be case-insensitive. It must match the following:\n",
    "&#39;Alice eats apples.&#39;\n",
    "\n",
    "&#39;Bob pets cats.&#39;\n",
    "\n",
    "&#39;Carol throws baseballs.&#39;\n",
    "\n",
    "&#39;Alice throws Apples.&#39;\n",
    "\n",
    "&#39;BOB EATS CATS.&#39;\n",
    "\n",
    "#but not the following:\n",
    "\n",
    "&#39;RoboCop eats apples.&#39;\n",
    "\n",
    "&#39;ALICE THROWS FOOTBALLS.&#39;\n",
    "\n",
    "&#39;Carol eats 7 cats.&#39;"
   ]
  },
  {
   "cell_type": "code",
   "execution_count": null,
   "id": "ba30edfa",
   "metadata": {},
   "outputs": [],
   "source": [
    "re.compile(r'(Alice|Bob|Carol)\\s(eats|pets|throws)\\s(apples|cats|baseballs)\\.', re.IGNORECASE)"
   ]
  },
  {
   "cell_type": "code",
   "execution_count": null,
   "id": "76e0dd19",
   "metadata": {},
   "outputs": [],
   "source": []
  }
 ],
 "metadata": {
  "kernelspec": {
   "display_name": "Python 3 (ipykernel)",
   "language": "python",
   "name": "python3"
  },
  "language_info": {
   "codemirror_mode": {
    "name": "ipython",
    "version": 3
   },
   "file_extension": ".py",
   "mimetype": "text/x-python",
   "name": "python",
   "nbconvert_exporter": "python",
   "pygments_lexer": "ipython3",
   "version": "3.9.12"
  }
 },
 "nbformat": 4,
 "nbformat_minor": 5
}
