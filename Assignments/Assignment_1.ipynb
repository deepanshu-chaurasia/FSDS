{
 "cells": [
  {
   "cell_type": "markdown",
   "id": "8cb000e2",
   "metadata": {},
   "source": [
    "# 1. In the below elements which of them are values or an expression? eg:- values can be integer or string and expressions will be mathematical operators."
   ]
  },
  {
   "cell_type": "code",
   "execution_count": null,
   "id": "b8b7fc2e",
   "metadata": {},
   "outputs": [],
   "source": [
    "* (Expression)\n",
    "\n",
    "'hello' (Value)\n",
    "\n",
    "-87.8 (Value)\n",
    "\n",
    "- (Expression)\n",
    "\n",
    "/ (Expression)\n",
    "\n",
    "+ (Expression)\n",
    "\n",
    "6 (Value)\n"
   ]
  },
  {
   "cell_type": "markdown",
   "id": "ad76294d",
   "metadata": {},
   "source": [
    "# 2. What is the difference between string and variable?"
   ]
  },
  {
   "cell_type": "code",
   "execution_count": null,
   "id": "c3a9b3e2",
   "metadata": {},
   "outputs": [],
   "source": [
    "• String: String is a type of data, which basically is a character or collection of characters or words and \n",
    "    are represented enclosed in double or single quotes. \n",
    "    Example: “Hello”, ‘World’, etc.\n",
    "    \n",
    "• Variable:  Variables are symbols, character or words, that are used to store data. \n",
    "    Example: a = 10, where ‘a’ is the variable that contains value ‘10’."
   ]
  },
  {
   "cell_type": "markdown",
   "id": "af292a73",
   "metadata": {},
   "source": [
    "# 3. Describe three different data types."
   ]
  },
  {
   "cell_type": "code",
   "execution_count": null,
   "id": "4fe9bc27",
   "metadata": {},
   "outputs": [],
   "source": [
    "• Integer: All the numeric characters, both positive and negative whole numbers comes under Integer Data type, \n",
    "    except fractional and decimals. It is represented as ‘int’. \n",
    "    Example: 21, -14, 95, -123, etc.\n",
    "\n",
    "• String:  String is a type of data, which basically is a character or collection of characters or words and \n",
    "    are represented enclosed in double or single quotes. It is represented as ‘str’. \n",
    "    Example: “Hello”, ‘World’, etc.\n",
    "\n",
    "• Boolean: Data type with one of the two built-in-values, ‘True’ or ‘False’. It is represented as ‘bool’."
   ]
  },
  {
   "cell_type": "markdown",
   "id": "05787648",
   "metadata": {},
   "source": [
    "# 4. What is an expression made up of? What do all expressions do?"
   ]
  },
  {
   "cell_type": "code",
   "execution_count": null,
   "id": "45fbe738",
   "metadata": {},
   "outputs": [],
   "source": [
    "• Expression:  An expression is a combination of operators and operands that perform a task to produce some other value, \n",
    "    such as, variable assignment and then mathematical operations or computations.\n",
    "    In any programming language, an expression is evaluated as per the precedence of its operators. \n",
    "    If there is more than one operator in an expression, their precedence decides which operator will be performed first. \n",
    "• Example: \n",
    "        ◦ a= 10\n",
    "        ◦ b = 20\n",
    "        ◦ a + b * 5 (Expression)"
   ]
  },
  {
   "cell_type": "markdown",
   "id": "9bd46027",
   "metadata": {},
   "source": [
    "# 5. This assignment statements, like spam = 10. What is the difference between an expression and a statement?\n"
   ]
  },
  {
   "cell_type": "code",
   "execution_count": null,
   "id": "5b026f68",
   "metadata": {},
   "outputs": [],
   "source": [
    "• “spam = 10” is an assignment statement, as statements do no perform a mathematical computations. \n",
    "    Statements assign values to a variable.\n",
    "• While, expression performs a mathematical computations, \n",
    "    which are performed with the help of operators, such as, +, -, *, / "
   ]
  },
  {
   "cell_type": "markdown",
   "id": "a969b405",
   "metadata": {},
   "source": [
    "# 6. After running the following code, what does the variable bacon contain?"
   ]
  },
  {
   "cell_type": "code",
   "execution_count": 14,
   "id": "b0ca58b9",
   "metadata": {},
   "outputs": [
    {
     "data": {
      "text/plain": [
       "23"
      ]
     },
     "execution_count": 14,
     "metadata": {},
     "output_type": "execute_result"
    }
   ],
   "source": [
    "bacon = 22\n",
    "bacon + 1"
   ]
  },
  {
   "cell_type": "markdown",
   "id": "64deaa04",
   "metadata": {},
   "source": [
    "# 7. What should the values of the following two terms be?"
   ]
  },
  {
   "cell_type": "code",
   "execution_count": 15,
   "id": "0acc4c2d",
   "metadata": {},
   "outputs": [
    {
     "data": {
      "text/plain": [
       "'spamspamspam'"
      ]
     },
     "execution_count": 15,
     "metadata": {},
     "output_type": "execute_result"
    }
   ],
   "source": [
    "'spam' + 'spamspam'\n"
   ]
  },
  {
   "cell_type": "code",
   "execution_count": 16,
   "id": "55aeb26d",
   "metadata": {},
   "outputs": [
    {
     "data": {
      "text/plain": [
       "'spamspamspam'"
      ]
     },
     "execution_count": 16,
     "metadata": {},
     "output_type": "execute_result"
    }
   ],
   "source": [
    "'spam' * 3"
   ]
  },
  {
   "cell_type": "markdown",
   "id": "2258e9f9",
   "metadata": {},
   "source": [
    "# 8. Why is eggs a valid variable name while 100 is invalid?"
   ]
  },
  {
   "cell_type": "code",
   "execution_count": null,
   "id": "af93c57c",
   "metadata": {},
   "outputs": [],
   "source": [
    "In Python, Variable name must start with a letter or the underscore character and it cannot start with a number. \n",
    "This is why ‘eggs’ is a valid variable, while ‘100’ is invalid."
   ]
  },
  {
   "cell_type": "markdown",
   "id": "d6796096",
   "metadata": {},
   "source": [
    "# 9. What three functions can be used to get the integer, floating-point number, or string version of a value?"
   ]
  },
  {
   "cell_type": "raw",
   "id": "a8f6fa1d",
   "metadata": {},
   "source": [
    "int(),float(),str()"
   ]
  },
  {
   "cell_type": "code",
   "execution_count": 17,
   "id": "6e8df9fc",
   "metadata": {},
   "outputs": [
    {
     "data": {
      "text/plain": [
       "10"
      ]
     },
     "execution_count": 17,
     "metadata": {},
     "output_type": "execute_result"
    }
   ],
   "source": [
    "a = 10.2354654\n",
    "int(a)"
   ]
  },
  {
   "cell_type": "code",
   "execution_count": 18,
   "id": "d4860f21",
   "metadata": {},
   "outputs": [
    {
     "data": {
      "text/plain": [
       "10.2354654"
      ]
     },
     "execution_count": 18,
     "metadata": {},
     "output_type": "execute_result"
    }
   ],
   "source": [
    "float(a)"
   ]
  },
  {
   "cell_type": "code",
   "execution_count": 19,
   "id": "f4602d39",
   "metadata": {},
   "outputs": [
    {
     "data": {
      "text/plain": [
       "'10.2354654'"
      ]
     },
     "execution_count": 19,
     "metadata": {},
     "output_type": "execute_result"
    }
   ],
   "source": [
    "str(a)"
   ]
  },
  {
   "cell_type": "markdown",
   "id": "a4ff7474",
   "metadata": {},
   "source": [
    "# 10. Why does this expression cause an error? How can you fix it?"
   ]
  },
  {
   "cell_type": "code",
   "execution_count": 20,
   "id": "761f8f13",
   "metadata": {},
   "outputs": [
    {
     "ename": "TypeError",
     "evalue": "can only concatenate str (not \"int\") to str",
     "output_type": "error",
     "traceback": [
      "\u001b[1;31m---------------------------------------------------------------------------\u001b[0m",
      "\u001b[1;31mTypeError\u001b[0m                                 Traceback (most recent call last)",
      "Input \u001b[1;32mIn [20]\u001b[0m, in \u001b[0;36m<cell line: 1>\u001b[1;34m()\u001b[0m\n\u001b[1;32m----> 1\u001b[0m \u001b[38;5;124;43m'\u001b[39;49m\u001b[38;5;124;43mI have eaten \u001b[39;49m\u001b[38;5;124;43m'\u001b[39;49m\u001b[43m \u001b[49m\u001b[38;5;241;43m+\u001b[39;49m\u001b[43m \u001b[49m\u001b[38;5;241;43m99\u001b[39;49m \u001b[38;5;241m+\u001b[39m \u001b[38;5;124m'\u001b[39m\u001b[38;5;124m burritos.\u001b[39m\u001b[38;5;124m'\u001b[39m\n",
      "\u001b[1;31mTypeError\u001b[0m: can only concatenate str (not \"int\") to str"
     ]
    }
   ],
   "source": [
    "'I have eaten ' + 99 + ' burritos.'"
   ]
  },
  {
   "cell_type": "code",
   "execution_count": 21,
   "id": "8dd09c3c",
   "metadata": {},
   "outputs": [
    {
     "data": {
      "text/plain": [
       "'I have eaten 99 burritos.'"
      ]
     },
     "execution_count": 21,
     "metadata": {},
     "output_type": "execute_result"
    }
   ],
   "source": [
    "'I have eaten ' + '99' + ' burritos.'"
   ]
  },
  {
   "cell_type": "code",
   "execution_count": 22,
   "id": "e487cb4a",
   "metadata": {},
   "outputs": [
    {
     "data": {
      "text/plain": [
       "'I have eaten 99 burritos.'"
      ]
     },
     "execution_count": 22,
     "metadata": {},
     "output_type": "execute_result"
    }
   ],
   "source": [
    "'I have eaten ' + str(99) + ' burritos.'"
   ]
  },
  {
   "cell_type": "code",
   "execution_count": null,
   "id": "af5d29ca",
   "metadata": {},
   "outputs": [],
   "source": []
  }
 ],
 "metadata": {
  "kernelspec": {
   "display_name": "Python 3 (ipykernel)",
   "language": "python",
   "name": "python3"
  },
  "language_info": {
   "codemirror_mode": {
    "name": "ipython",
    "version": 3
   },
   "file_extension": ".py",
   "mimetype": "text/x-python",
   "name": "python",
   "nbconvert_exporter": "python",
   "pygments_lexer": "ipython3",
   "version": "3.9.12"
  }
 },
 "nbformat": 4,
 "nbformat_minor": 5
}
