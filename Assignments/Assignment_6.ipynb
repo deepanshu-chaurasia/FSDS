{
 "cells": [
  {
   "cell_type": "markdown",
   "id": "77f451a4",
   "metadata": {},
   "source": [
    "# 1. What are escape characters, and how do you use them?"
   ]
  },
  {
   "cell_type": "markdown",
   "id": "c729aad2",
   "metadata": {},
   "source": [
    "Escape characters are used to include characters that are illegal in a string, such as using double quotes inside double quotes or to add new line to the continuous string."
   ]
  },
  {
   "cell_type": "code",
   "execution_count": 2,
   "id": "0992db1f",
   "metadata": {},
   "outputs": [
    {
     "ename": "SyntaxError",
     "evalue": "invalid syntax (3122524366.py, line 1)",
     "output_type": "error",
     "traceback": [
      "\u001b[1;36m  Input \u001b[1;32mIn [2]\u001b[1;36m\u001b[0m\n\u001b[1;33m    txt = 'Hey, What's up'\u001b[0m\n\u001b[1;37m                     ^\u001b[0m\n\u001b[1;31mSyntaxError\u001b[0m\u001b[1;31m:\u001b[0m invalid syntax\n"
     ]
    }
   ],
   "source": [
    "#without escape character.\n",
    "txt = 'Hey, What's up'"
   ]
  },
  {
   "cell_type": "code",
   "execution_count": 4,
   "id": "bdcbc15e",
   "metadata": {
    "scrolled": true
   },
   "outputs": [
    {
     "data": {
      "text/plain": [
       "\"Hey, What's up\""
      ]
     },
     "execution_count": 4,
     "metadata": {},
     "output_type": "execute_result"
    }
   ],
   "source": [
    "#With escaope character.\n",
    "txt = 'Hey, What\\'s up'\n",
    "txt"
   ]
  },
  {
   "cell_type": "markdown",
   "id": "68f4f031",
   "metadata": {},
   "source": [
    "# 2. What do the escape characters n and t stand for?"
   ]
  },
  {
   "cell_type": "code",
   "execution_count": null,
   "id": "55852178",
   "metadata": {},
   "outputs": [],
   "source": [
    "Escape Character \"\\n\" add new line in the string.\n",
    "Escape Character \"\\t\" is used as \"tab\"."
   ]
  },
  {
   "cell_type": "code",
   "execution_count": 51,
   "id": "9e88630e",
   "metadata": {},
   "outputs": [
    {
     "name": "stdout",
     "output_type": "stream",
     "text": [
      " This is to show\n",
      " how to use new line escape character\n",
      " in a string.\n"
     ]
    }
   ],
   "source": [
    "#escape characters n.\n",
    "txt1 = ' This is to show\\n how to use new line escape character\\n in a string.'\n",
    "print(txt1)"
   ]
  },
  {
   "cell_type": "code",
   "execution_count": 50,
   "id": "efe0c619",
   "metadata": {},
   "outputs": [
    {
     "name": "stdout",
     "output_type": "stream",
     "text": [
      " This is to show\t how to use tab escape character\t in a string.\n"
     ]
    }
   ],
   "source": [
    "#escape characters t.\n",
    "txt1 = ' This is to show\\t how to use tab escape character\\t in a string.'\n",
    "print(txt1)"
   ]
  },
  {
   "cell_type": "markdown",
   "id": "3eabcef7",
   "metadata": {},
   "source": [
    "# 3. What is the way to include backslash characters in a string?"
   ]
  },
  {
   "cell_type": "code",
   "execution_count": 15,
   "id": "e3efe07e",
   "metadata": {},
   "outputs": [
    {
     "name": "stdout",
     "output_type": "stream",
     "text": [
      " C:\\Users\\Files\n"
     ]
    }
   ],
   "source": [
    "txt1 = ' C:\\\\Users\\\\Files'\n",
    "print(txt1)"
   ]
  },
  {
   "cell_type": "markdown",
   "id": "abd0de70",
   "metadata": {},
   "source": [
    "# 4. The string &quot;Howl&#39;s Moving Castle&quot; is a correct value. Why isn&#39;t the single quote character in the word Howl&#39;s not escaped a problem?"
   ]
  },
  {
   "cell_type": "markdown",
   "id": "21b31cb2",
   "metadata": {},
   "source": [
    "Using single quote in a string under double quote does not require to be escaped, that is why  \"Howl's Moving Castle\" is a correct string."
   ]
  },
  {
   "cell_type": "markdown",
   "id": "4971386c",
   "metadata": {},
   "source": [
    "# 5. How do you write a string of newlines if you don&#39;t want to use the n character?"
   ]
  },
  {
   "cell_type": "code",
   "execution_count": 14,
   "id": "07dd5e27",
   "metadata": {},
   "outputs": [
    {
     "name": "stdout",
     "output_type": "stream",
     "text": [
      "hello, my name is deepanshu.\n"
     ]
    }
   ],
   "source": [
    "txt1 = \"hello, my name is deepanshu.\"\n",
    "print(txt1, end = '\\n')"
   ]
  },
  {
   "cell_type": "markdown",
   "id": "314c4dc4",
   "metadata": {},
   "source": [
    "# 6. What are the values of the given expressions?\n",
    "&#39;Hello, world!&#39;[1]\n",
    "\n",
    "&#39;Hello, world!&#39;[0:5]\n",
    "\n",
    "&#39;Hello, world!&#39;[:5]\n",
    "\n",
    "&#39;Hello, world!&#39;[3:]"
   ]
  },
  {
   "cell_type": "code",
   "execution_count": 8,
   "id": "f23b2df6",
   "metadata": {},
   "outputs": [
    {
     "name": "stdout",
     "output_type": "stream",
     "text": [
      "e\n",
      "Hello\n",
      "Hello\n",
      "lo, world!\n"
     ]
    }
   ],
   "source": [
    "print('Hello, world!'[1])\n",
    "\n",
    "print('Hello, world!'[0:5])\n",
    "\n",
    "print('Hello, world!'[:5])\n",
    "\n",
    "print('Hello, world!'[3:])"
   ]
  },
  {
   "cell_type": "markdown",
   "id": "c302c362",
   "metadata": {},
   "source": [
    "# 7. What are the values of the following expressions?\n",
    "&#39;Hello&#39;.upper()\n",
    "\n",
    "&#39;Hello&#39;.upper().isupper()\n",
    "\n",
    "&#39;Hello&#39;.upper().lower()"
   ]
  },
  {
   "cell_type": "code",
   "execution_count": 9,
   "id": "f9d48096",
   "metadata": {},
   "outputs": [
    {
     "name": "stdout",
     "output_type": "stream",
     "text": [
      "HELLO\n",
      "True\n",
      "hello\n"
     ]
    }
   ],
   "source": [
    "print('Hello'.upper())\n",
    "\n",
    "print('Hello'.upper().isupper())\n",
    "\n",
    "print('Hello'.upper().lower())"
   ]
  },
  {
   "cell_type": "markdown",
   "id": "d43f5d5b",
   "metadata": {},
   "source": [
    "# 8. What are the values of the following expressions?\n",
    "&#39;Remember, remember, the fifth of July.&#39;.split()\n",
    "\n",
    "&#39;-&#39;.join(&#39;There can only one.&#39;.split())"
   ]
  },
  {
   "cell_type": "code",
   "execution_count": 10,
   "id": "499036a5",
   "metadata": {},
   "outputs": [
    {
     "name": "stdout",
     "output_type": "stream",
     "text": [
      "['Remember,', 'remember,', 'the', 'fifth', 'of', 'July.']\n",
      "There-can-only-one.\n"
     ]
    }
   ],
   "source": [
    "print('Remember, remember, the fifth of July.'.split())\n",
    "\n",
    "print('-'.join('There can only one.'.split()))"
   ]
  },
  {
   "cell_type": "markdown",
   "id": "e950cad1",
   "metadata": {},
   "source": [
    "# 9. What are the methods for right-justifying, left-justifying, and centering a string?"
   ]
  },
  {
   "cell_type": "code",
   "execution_count": 38,
   "id": "f4ed13b0",
   "metadata": {},
   "outputs": [
    {
     "data": {
      "text/plain": [
       "'**************This is just another text.'"
      ]
     },
     "execution_count": 38,
     "metadata": {},
     "output_type": "execute_result"
    }
   ],
   "source": [
    "#right-justifying\n",
    "txt2 =\"This is just another text.\"\n",
    "txt2.rjust(40,'*')"
   ]
  },
  {
   "cell_type": "code",
   "execution_count": 39,
   "id": "245000ea",
   "metadata": {},
   "outputs": [
    {
     "data": {
      "text/plain": [
       "'This is just another text.**************'"
      ]
     },
     "execution_count": 39,
     "metadata": {},
     "output_type": "execute_result"
    }
   ],
   "source": [
    "#left-justifying\n",
    "txt2 =\"This is just another text.\"\n",
    "txt2.ljust(40,'*')"
   ]
  },
  {
   "cell_type": "code",
   "execution_count": 49,
   "id": "b5a11653",
   "metadata": {},
   "outputs": [
    {
     "data": {
      "text/plain": [
       "'*******This is just another text.*******'"
      ]
     },
     "execution_count": 49,
     "metadata": {},
     "output_type": "execute_result"
    }
   ],
   "source": [
    "#center-justifying\n",
    "txt2 =\"This is just another text.\"\n",
    "txt2.center(40,'*')"
   ]
  },
  {
   "cell_type": "markdown",
   "id": "8d514709",
   "metadata": {},
   "source": [
    "# 10. What is the best way to remove whitespace characters from the start or end?"
   ]
  },
  {
   "cell_type": "code",
   "execution_count": 52,
   "id": "8f0395a7",
   "metadata": {},
   "outputs": [
    {
     "data": {
      "text/plain": [
       "'This is just another text.        '"
      ]
     },
     "execution_count": 52,
     "metadata": {},
     "output_type": "execute_result"
    }
   ],
   "source": [
    "#remove whitespace characters from the start.\n",
    "txt3 =\"        This is just another text.        \"\n",
    "txt3.lstrip()"
   ]
  },
  {
   "cell_type": "code",
   "execution_count": 53,
   "id": "343bb825",
   "metadata": {},
   "outputs": [
    {
     "data": {
      "text/plain": [
       "'         This is just another text.'"
      ]
     },
     "execution_count": 53,
     "metadata": {},
     "output_type": "execute_result"
    }
   ],
   "source": [
    "#remove whitespace characters from the end.\n",
    "txt3 =\"         This is just another text.       \"\n",
    "txt3.rstrip()"
   ]
  },
  {
   "cell_type": "code",
   "execution_count": null,
   "id": "91079093",
   "metadata": {},
   "outputs": [],
   "source": []
  }
 ],
 "metadata": {
  "kernelspec": {
   "display_name": "Python 3 (ipykernel)",
   "language": "python",
   "name": "python3"
  },
  "language_info": {
   "codemirror_mode": {
    "name": "ipython",
    "version": 3
   },
   "file_extension": ".py",
   "mimetype": "text/x-python",
   "name": "python",
   "nbconvert_exporter": "python",
   "pygments_lexer": "ipython3",
   "version": "3.9.12"
  }
 },
 "nbformat": 4,
 "nbformat_minor": 5
}
