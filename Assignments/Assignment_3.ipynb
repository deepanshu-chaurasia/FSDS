{
 "cells": [
  {
   "cell_type": "markdown",
   "id": "6ab66c54",
   "metadata": {},
   "source": [
    "# 1. Why are functions advantageous to have in your programs?"
   ]
  },
  {
   "cell_type": "code",
   "execution_count": null,
   "id": "7e494ebe",
   "metadata": {},
   "outputs": [],
   "source": [
    "Functions are advantageous as they can be resued in the program again and again. They save time and \n",
    "memory by reducing duplication of code.\n",
    "Functions increases program readability. And helps in dividing complex problems in to simpler ones. "
   ]
  },
  {
   "cell_type": "markdown",
   "id": "0db3e518",
   "metadata": {},
   "source": [
    "# 2. When does the code in a function run: when it is specified or when it is called?"
   ]
  },
  {
   "cell_type": "code",
   "execution_count": null,
   "id": "df22dbf9",
   "metadata": {},
   "outputs": [],
   "source": [
    "Code in a functions runs when it is called in the main program."
   ]
  },
  {
   "cell_type": "markdown",
   "id": "0a5b6d6f",
   "metadata": {},
   "source": [
    "# 3. What statement creates a function?"
   ]
  },
  {
   "cell_type": "code",
   "execution_count": null,
   "id": "b946de76",
   "metadata": {},
   "outputs": [],
   "source": [
    "\"def function_name():\"\n",
    "statement creates a function in python."
   ]
  },
  {
   "cell_type": "markdown",
   "id": "340871fb",
   "metadata": {},
   "source": [
    "# 4. What is the difference between a function and a function call?"
   ]
  },
  {
   "cell_type": "code",
   "execution_count": null,
   "id": "81f967b6",
   "metadata": {},
   "outputs": [],
   "source": [
    "A functions is a block of code that performs a particular operation and returns a result.\n",
    "A function call is the code in the main program that passes the control to a function to perform that operation.\n"
   ]
  },
  {
   "cell_type": "markdown",
   "id": "44eb07c2",
   "metadata": {},
   "source": [
    "# 5. How many global scopes are there in a Python program? How many local scopes?"
   ]
  },
  {
   "cell_type": "code",
   "execution_count": null,
   "id": "bc9753bc",
   "metadata": {},
   "outputs": [],
   "source": [
    "Global Scopes are for the entire python program, so there is only one global scope in python per program execution.\n",
    "While Local Scopes is a code block or body of any python function or lamda expression. \n",
    "So there can be multiple local variables, depending on the number of functions created in the python program.\n"
   ]
  },
  {
   "cell_type": "markdown",
   "id": "e60ffa03",
   "metadata": {},
   "source": [
    "# 6. What happens to variables in a local scope when the function call returns?"
   ]
  },
  {
   "cell_type": "code",
   "execution_count": null,
   "id": "9601c0eb",
   "metadata": {},
   "outputs": [],
   "source": [
    "As the functions call returns, the local variable goes out of the scope because\n",
    "a local variable can not be used outside the function \n",
    "and so the variable get distroyed and its memory can be used for other purposes."
   ]
  },
  {
   "cell_type": "markdown",
   "id": "c59d3689",
   "metadata": {},
   "source": [
    "# 7. What is the concept of a return value? Is it possible to have a return value in an expression?"
   ]
  },
  {
   "cell_type": "code",
   "execution_count": null,
   "id": "f4b495a0",
   "metadata": {},
   "outputs": [],
   "source": [
    "A function always returns a value when it is called. \n",
    "Return keyword  is used to end the execution of the function and instructs python to continue executing the main program.\n",
    "And yes, a return value can be obtained from an expression in the return statement."
   ]
  },
  {
   "cell_type": "markdown",
   "id": "d91b85e9",
   "metadata": {},
   "source": [
    "# 8. If a function does not have a return statement, what is the return value of a call to that function?"
   ]
  },
  {
   "cell_type": "code",
   "execution_count": null,
   "id": "ef9507bd",
   "metadata": {},
   "outputs": [],
   "source": [
    "A python function can exit without a return statement and will execute properly,\n",
    "but then the function returns None when called."
   ]
  },
  {
   "cell_type": "markdown",
   "id": "09a32442",
   "metadata": {},
   "source": [
    "# 9. How do you make a function variable refer to the global variable?"
   ]
  },
  {
   "cell_type": "code",
   "execution_count": null,
   "id": "261b6a55",
   "metadata": {},
   "outputs": [],
   "source": [
    "By using \"global\" keyword we can declare a local variable as global."
   ]
  },
  {
   "cell_type": "markdown",
   "id": "a636019b",
   "metadata": {},
   "source": [
    "# 10. What is the data type of None?"
   ]
  },
  {
   "cell_type": "code",
   "execution_count": 1,
   "id": "ebb17a73",
   "metadata": {},
   "outputs": [
    {
     "data": {
      "text/plain": [
       "NoneType"
      ]
     },
     "execution_count": 1,
     "metadata": {},
     "output_type": "execute_result"
    }
   ],
   "source": [
    "type(None)"
   ]
  },
  {
   "cell_type": "markdown",
   "id": "8b5111dc",
   "metadata": {},
   "source": [
    "# 11. What does the sentence import areallyourpetsnamederic do?"
   ]
  },
  {
   "cell_type": "code",
   "execution_count": null,
   "id": "9b045f77",
   "metadata": {},
   "outputs": [],
   "source": [
    "import areallyourpetsnamederic\n",
    "\n",
    "\n",
    "--The \"import\" Statement imports the module \"areallyourpetsnamederic\".\n"
   ]
  },
  {
   "cell_type": "markdown",
   "id": "fc785570",
   "metadata": {},
   "source": [
    "# 12. If you had a bacon() feature in a spam module, what would you call it after importing spam?"
   ]
  },
  {
   "cell_type": "code",
   "execution_count": null,
   "id": "0b409a50",
   "metadata": {},
   "outputs": [],
   "source": [
    "import spam\n",
    "\n",
    "spam.bacon()"
   ]
  },
  {
   "cell_type": "markdown",
   "id": "acc65b9f",
   "metadata": {},
   "source": [
    "# 13. What can you do to save a programme from crashing if it encounters an error?"
   ]
  },
  {
   "cell_type": "code",
   "execution_count": null,
   "id": "3344d67e",
   "metadata": {},
   "outputs": [],
   "source": [
    "Exception Handling is method to handle various errors that can be expected to occur and \n",
    "save a program from crashing."
   ]
  },
  {
   "cell_type": "markdown",
   "id": "5e970d13",
   "metadata": {},
   "source": [
    "# 14. What is the purpose of the try clause? What is the purpose of the except clause?"
   ]
  },
  {
   "cell_type": "code",
   "execution_count": null,
   "id": "77edd7f1",
   "metadata": {},
   "outputs": [],
   "source": [
    "\"try\" clause contains the block of code where an error can be expected to occur and \n",
    "the try keyword will look if that error occurs.\n",
    "Whlie \"except\" clause defines what to do or how to handle, if the error occurs \n",
    "during the execution of that praticular block of code."
   ]
  },
  {
   "cell_type": "code",
   "execution_count": null,
   "id": "8fca4735",
   "metadata": {},
   "outputs": [],
   "source": []
  }
 ],
 "metadata": {
  "kernelspec": {
   "display_name": "Python 3 (ipykernel)",
   "language": "python",
   "name": "python3"
  },
  "language_info": {
   "codemirror_mode": {
    "name": "ipython",
    "version": 3
   },
   "file_extension": ".py",
   "mimetype": "text/x-python",
   "name": "python",
   "nbconvert_exporter": "python",
   "pygments_lexer": "ipython3",
   "version": "3.9.12"
  }
 },
 "nbformat": 4,
 "nbformat_minor": 5
}
