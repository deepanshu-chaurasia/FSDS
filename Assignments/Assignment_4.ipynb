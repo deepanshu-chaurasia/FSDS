{
 "cells": [
  {
   "cell_type": "markdown",
   "id": "b7d7f053",
   "metadata": {},
   "source": [
    "# 1. What exactly is []?"
   ]
  },
  {
   "cell_type": "markdown",
   "id": "76857861",
   "metadata": {},
   "source": [
    "[] are square brackets, also known as index brackets, that are used in many ways in python, such as:\n",
    "1. For declaring a list and its contents.\n",
    "2. As index operators, to access the elements of a list or a tuple. "
   ]
  },
  {
   "cell_type": "markdown",
   "id": "512a3637",
   "metadata": {},
   "source": [
    "# 2. In a list of values stored in a variable called spam, how would you assign the value &#39;hello&#39; as the third value? \n",
    "(Assume [2, 4, 6, 8, 10] are in spam.)\n"
   ]
  },
  {
   "cell_type": "code",
   "execution_count": 6,
   "id": "a4a73739",
   "metadata": {},
   "outputs": [
    {
     "name": "stdout",
     "output_type": "stream",
     "text": [
      "[2, 4, 'Hello', 8, 10]\n"
     ]
    }
   ],
   "source": [
    "spam = [2,4,6,8,10]\n",
    "spam[2] = \"Hello\"\n",
    "print(spam)"
   ]
  },
  {
   "cell_type": "markdown",
   "id": "6b958dde",
   "metadata": {},
   "source": [
    "# 3. What is the value of spam[int(int(&#39;3&#39; * 2) / 11)]?\n",
    "Let's pretend the spam includes the list [&#39;a&#39;, &#39;b&#39;, &#39;c&#39;, &#39;d&#39;] for the next three queries."
   ]
  },
  {
   "cell_type": "code",
   "execution_count": 8,
   "id": "b61f9647",
   "metadata": {},
   "outputs": [
    {
     "name": "stdout",
     "output_type": "stream",
     "text": [
      "d\n"
     ]
    }
   ],
   "source": [
    "spam = ['a', 'b', 'c', 'd']\n",
    "print(spam[int(int('3' * 2) / 11)])"
   ]
  },
  {
   "cell_type": "markdown",
   "id": "83c014b9",
   "metadata": {},
   "source": [
    "# 4. What is the value of spam[-1]?"
   ]
  },
  {
   "cell_type": "code",
   "execution_count": 16,
   "id": "29591b1b",
   "metadata": {},
   "outputs": [
    {
     "data": {
      "text/plain": [
       "'d'"
      ]
     },
     "execution_count": 16,
     "metadata": {},
     "output_type": "execute_result"
    }
   ],
   "source": [
    "spam[-1]"
   ]
  },
  {
   "cell_type": "markdown",
   "id": "e25b95b4",
   "metadata": {},
   "source": [
    "# 5. What is the value of spam[:2]?\n"
   ]
  },
  {
   "cell_type": "code",
   "execution_count": 15,
   "id": "63619bbb",
   "metadata": {},
   "outputs": [
    {
     "data": {
      "text/plain": [
       "['a', 'b']"
      ]
     },
     "execution_count": 15,
     "metadata": {},
     "output_type": "execute_result"
    }
   ],
   "source": [
    "spam[:2]"
   ]
  },
  {
   "cell_type": "markdown",
   "id": "f2b380e0",
   "metadata": {},
   "source": [
    "# 6. What is the value of bacon.index(&#39;cat&#39;)?\n",
    "Let&#39;s pretend bacon has the list [3.14, &#39;cat,&#39; 11, &#39;cat,&#39; True] for the next three questions."
   ]
  },
  {
   "cell_type": "code",
   "execution_count": 19,
   "id": "2092bb94",
   "metadata": {},
   "outputs": [
    {
     "data": {
      "text/plain": [
       "1"
      ]
     },
     "execution_count": 19,
     "metadata": {},
     "output_type": "execute_result"
    }
   ],
   "source": [
    "bacon = [3.14, 'cat', 11, 'cat', True]\n",
    "bacon.index('cat')"
   ]
  },
  {
   "cell_type": "markdown",
   "id": "304b93f2",
   "metadata": {},
   "source": [
    "# 7. How does bacon.append(99) change the look of the list value in bacon?"
   ]
  },
  {
   "cell_type": "markdown",
   "id": "1406ffa6",
   "metadata": {},
   "source": [
    "bacon.append(99) , will add the element containing value 99 to the end of the list."
   ]
  },
  {
   "cell_type": "code",
   "execution_count": 26,
   "id": "6de7d207",
   "metadata": {},
   "outputs": [
    {
     "data": {
      "text/plain": [
       "[3.14, 'cat', 11, 'cat', True, 99]"
      ]
     },
     "execution_count": 26,
     "metadata": {},
     "output_type": "execute_result"
    }
   ],
   "source": [
    "bacon = [3.14, 'cat', 11, 'cat', True]\n",
    "bacon.append(99)\n",
    "bacon"
   ]
  },
  {
   "cell_type": "markdown",
   "id": "6d77fff5",
   "metadata": {},
   "source": [
    "# 8. How does bacon.remove(&#39;cat&#39;) change the look of the list in bacon?"
   ]
  },
  {
   "cell_type": "markdown",
   "id": "8f067f10",
   "metadata": {},
   "source": [
    "bacon.remove('cat') , will remove the element containing value 'cat' at the least index position of the list."
   ]
  },
  {
   "cell_type": "code",
   "execution_count": 25,
   "id": "6c37ae71",
   "metadata": {},
   "outputs": [
    {
     "data": {
      "text/plain": [
       "[3.14, 11, 'cat', True]"
      ]
     },
     "execution_count": 25,
     "metadata": {},
     "output_type": "execute_result"
    }
   ],
   "source": [
    "bacon = [3.14, 'cat', 11, 'cat', True]\n",
    "bacon.remove('cat')\n",
    "bacon"
   ]
  },
  {
   "cell_type": "markdown",
   "id": "b6cc6195",
   "metadata": {},
   "source": [
    "# 9. What are the list concatenation and list replication operators?"
   ]
  },
  {
   "cell_type": "markdown",
   "id": "6da4e247",
   "metadata": {},
   "source": [
    "'+' is the list concatenation operator.\n",
    "\n",
    "'*' is the replication operator."
   ]
  },
  {
   "cell_type": "code",
   "execution_count": 27,
   "id": "b33ce0bd",
   "metadata": {},
   "outputs": [
    {
     "data": {
      "text/plain": [
       "[1, 2, 3, 4]"
      ]
     },
     "execution_count": 27,
     "metadata": {},
     "output_type": "execute_result"
    }
   ],
   "source": [
    "a = [1,2]\n",
    "b = [3,4]\n",
    "a+b"
   ]
  },
  {
   "cell_type": "code",
   "execution_count": 28,
   "id": "357fb143",
   "metadata": {},
   "outputs": [
    {
     "data": {
      "text/plain": [
       "[1, 2, 1, 2, 1, 2]"
      ]
     },
     "execution_count": 28,
     "metadata": {},
     "output_type": "execute_result"
    }
   ],
   "source": [
    "a*3"
   ]
  },
  {
   "cell_type": "markdown",
   "id": "16afc140",
   "metadata": {},
   "source": [
    "# 10. What is difference between the list methods append() and insert()?"
   ]
  },
  {
   "cell_type": "markdown",
   "id": "c912bfbe",
   "metadata": {},
   "source": [
    "append() functions takes only one argument, which is the element value to be added to the list and the adds the element to the end of the list.\n",
    "While, insert() functions takes two arguments, 'position' where the element is supposed to be added and the 'value' of the element. "
   ]
  },
  {
   "cell_type": "code",
   "execution_count": 30,
   "id": "e65b4918",
   "metadata": {},
   "outputs": [
    {
     "data": {
      "text/plain": [
       "['a', 'b', 'c', 'd', 55]"
      ]
     },
     "execution_count": 30,
     "metadata": {},
     "output_type": "execute_result"
    }
   ],
   "source": [
    "list = ['a', 'b', 'c', 'd']\n",
    "list.append(55)\n",
    "list"
   ]
  },
  {
   "cell_type": "code",
   "execution_count": 31,
   "id": "d836086f",
   "metadata": {},
   "outputs": [
    {
     "data": {
      "text/plain": [
       "['a', 'b', 23, 'c', 'd', 55]"
      ]
     },
     "execution_count": 31,
     "metadata": {},
     "output_type": "execute_result"
    }
   ],
   "source": [
    "list.insert(2, 23)\n",
    "list"
   ]
  },
  {
   "cell_type": "markdown",
   "id": "314a4d50",
   "metadata": {},
   "source": [
    "# 11. What are the two methods for removing items from a list?"
   ]
  },
  {
   "cell_type": "markdown",
   "id": "2d5b614c",
   "metadata": {},
   "source": [
    "remove('item') function takes one argument as the item name from the list and remove that particular item from the list from the first/least index position. \n",
    "\n",
    "pop() function takes no argument and removes the item from the last index of the list."
   ]
  },
  {
   "cell_type": "code",
   "execution_count": 32,
   "id": "59e9f9e9",
   "metadata": {},
   "outputs": [
    {
     "data": {
      "text/plain": [
       "['a', 'c', 'd']"
      ]
     },
     "execution_count": 32,
     "metadata": {},
     "output_type": "execute_result"
    }
   ],
   "source": [
    "list = ['a', 'b', 'c', 'd']\n",
    "list.remove('b')\n",
    "list"
   ]
  },
  {
   "cell_type": "code",
   "execution_count": 33,
   "id": "600e66ac",
   "metadata": {},
   "outputs": [
    {
     "data": {
      "text/plain": [
       "['a', 'b', 'c']"
      ]
     },
     "execution_count": 33,
     "metadata": {},
     "output_type": "execute_result"
    }
   ],
   "source": [
    "list = ['a', 'b', 'c', 'd']\n",
    "list.pop()\n",
    "list"
   ]
  },
  {
   "cell_type": "markdown",
   "id": "11ac6756",
   "metadata": {},
   "source": [
    "# 12. Describe how list values and string values are identical."
   ]
  },
  {
   "cell_type": "markdown",
   "id": "b835e499",
   "metadata": {},
   "source": [
    "1. Strings can be indexed similarly like list elements as list of characters. \n",
    "2. Both can be used in loop. \n",
    "3. Both can be concatenated or replicated."
   ]
  },
  {
   "cell_type": "code",
   "execution_count": 35,
   "id": "9d3609f2",
   "metadata": {},
   "outputs": [
    {
     "data": {
      "text/plain": [
       "'strings'"
      ]
     },
     "execution_count": 35,
     "metadata": {},
     "output_type": "execute_result"
    }
   ],
   "source": [
    "s = \"string\"\n",
    "s + 's'"
   ]
  },
  {
   "cell_type": "code",
   "execution_count": 36,
   "id": "defe9fe9",
   "metadata": {},
   "outputs": [
    {
     "data": {
      "text/plain": [
       "'stringstringstring'"
      ]
     },
     "execution_count": 36,
     "metadata": {},
     "output_type": "execute_result"
    }
   ],
   "source": [
    "s*3"
   ]
  },
  {
   "cell_type": "markdown",
   "id": "420d7dc3",
   "metadata": {},
   "source": [
    "# 13. What&#39;s the difference between tuples and lists?"
   ]
  },
  {
   "cell_type": "markdown",
   "id": "1691504d",
   "metadata": {},
   "source": [
    "1. [] Square bracketes are used to define lists, while () parentheses are used to define tuples.\n",
    "2. Lists are mutable, therefore elements can be added, removed or changed in list. But tuples are immutable, therefore elements can not be at all.\n",
    "3. Lists have several built-in methods while tuple do not have many built-in methods."
   ]
  },
  {
   "cell_type": "markdown",
   "id": "94a8de6b",
   "metadata": {},
   "source": [
    "# 14. How do you type a tuple value that only contains the integer 42?"
   ]
  },
  {
   "cell_type": "code",
   "execution_count": 47,
   "id": "757cd388",
   "metadata": {},
   "outputs": [
    {
     "data": {
      "text/plain": [
       "tuple"
      ]
     },
     "execution_count": 47,
     "metadata": {},
     "output_type": "execute_result"
    }
   ],
   "source": [
    "tup = (42,)\n",
    "type(tup)"
   ]
  },
  {
   "cell_type": "markdown",
   "id": "8289a755",
   "metadata": {},
   "source": [
    "# 15. How do you get a list value&#39;s tuple form? How do you get a tuple value&#39;s list form?"
   ]
  },
  {
   "cell_type": "code",
   "execution_count": 59,
   "id": "70488a10",
   "metadata": {},
   "outputs": [
    {
     "name": "stdout",
     "output_type": "stream",
     "text": [
      "(1, 2, 3, 4, 5)\n",
      "<class 'list'>\n",
      "<class 'tuple'>\n"
     ]
    }
   ],
   "source": [
    "list1 = [1,2,3,4,5]\n",
    "t = tuple(list1)\n",
    "print(t)\n",
    "print(type(list1))\n",
    "print(type(t))\n",
    "\n"
   ]
  },
  {
   "cell_type": "code",
   "execution_count": 62,
   "id": "9b444baa",
   "metadata": {},
   "outputs": [
    {
     "name": "stdout",
     "output_type": "stream",
     "text": [
      "['a', 'b', 'c', 'd']\n",
      "<class 'tuple'>\n",
      "<class 'list'>\n"
     ]
    }
   ],
   "source": [
    "t2 = ('a','b','c','d')\n",
    "l2 = list(t2)\n",
    "print(l2)\n",
    "print(type(t2))\n",
    "print(type(l2))"
   ]
  },
  {
   "cell_type": "markdown",
   "id": "58c05f77",
   "metadata": {},
   "source": [
    "# 16. Variables that &quot;contain&quot; list values are not necessarily lists themselves. Instead, what do they contain?"
   ]
  },
  {
   "cell_type": "markdown",
   "id": "3c56c515",
   "metadata": {},
   "source": [
    "Variables will contain references to list values rather than list values themselves."
   ]
  },
  {
   "cell_type": "markdown",
   "id": "f93fd6c3",
   "metadata": {},
   "source": [
    "# 17. How do you distinguish between copy.copy() and copy.deepcopy()?"
   ]
  },
  {
   "cell_type": "markdown",
   "id": "cd72773e",
   "metadata": {},
   "source": [
    "The copy.copy() function will do a shallow copy of a list and creates a reference to the orginal list, such that if you change the copied list, the original list also get changed. \n",
    "\n",
    "The copy.deepcopy() function will do a deep copy of a list and creates a new list as an exact copy, so the changes in the copied list do not effect the original list. Only copy.deepcopy() will duplicate any lists inside the list."
   ]
  },
  {
   "cell_type": "code",
   "execution_count": null,
   "id": "f9e68add",
   "metadata": {},
   "outputs": [],
   "source": []
  }
 ],
 "metadata": {
  "kernelspec": {
   "display_name": "Python 3 (ipykernel)",
   "language": "python",
   "name": "python3"
  },
  "language_info": {
   "codemirror_mode": {
    "name": "ipython",
    "version": 3
   },
   "file_extension": ".py",
   "mimetype": "text/x-python",
   "name": "python",
   "nbconvert_exporter": "python",
   "pygments_lexer": "ipython3",
   "version": "3.9.12"
  }
 },
 "nbformat": 4,
 "nbformat_minor": 5
}
