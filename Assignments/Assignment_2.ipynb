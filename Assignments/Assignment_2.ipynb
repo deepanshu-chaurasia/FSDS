{
 "cells": [
  {
   "cell_type": "markdown",
   "id": "75101d8e",
   "metadata": {},
   "source": [
    "# 1.What are the two values of the Boolean data type? How do you write them?"
   ]
  },
  {
   "cell_type": "code",
   "execution_count": null,
   "id": "0257e1e9",
   "metadata": {},
   "outputs": [],
   "source": [
    "Two values of Boolean data type are 0 and 1, \n",
    "which are written as ‘true’ representing ‘1’ and ‘false’ representing  ‘0’."
   ]
  },
  {
   "cell_type": "markdown",
   "id": "ccf198be",
   "metadata": {},
   "source": [
    "# 2. What are the three different types of Boolean operators?"
   ]
  },
  {
   "cell_type": "code",
   "execution_count": null,
   "id": "5f255df7",
   "metadata": {},
   "outputs": [],
   "source": [
    "AND – (a and b) – true if both are true\n",
    "OR – (a or b) – true if at least one is true\n",
    " NOT – (not a)– true only if false\n"
   ]
  },
  {
   "cell_type": "markdown",
   "id": "2cc4df9c",
   "metadata": {},
   "source": [
    "# 3. Make a list of each Boolean operator's truth tables (i.e. every possible combination of Boolean values for the operator and what it evaluate ). "
   ]
  },
  {
   "cell_type": "code",
   "execution_count": null,
   "id": "3107124e",
   "metadata": {},
   "outputs": [],
   "source": [
    "AND – (a and b) – true if both are true\n",
    "a b result\n",
    "0 0  0\n",
    "0 1  0\n",
    "1 0  0\n",
    "1 1  1\n",
    "\n",
    "OR – (a or b) – true if at least one is true\n",
    "a b result\n",
    "0 0  0\n",
    "0 1  1\n",
    "1 0  1\n",
    "1 1  1\n",
    "\n",
    "NOT – (not a)– true only if false\n",
    "a  result\n",
    "0   1\n",
    "1   0\n"
   ]
  },
  {
   "cell_type": "markdown",
   "id": "95e42941",
   "metadata": {},
   "source": [
    "# 4. What are the values of the following expressions?"
   ]
  },
  {
   "cell_type": "code",
   "execution_count": null,
   "id": "537c23c2",
   "metadata": {},
   "outputs": [],
   "source": [
    "(5 > 4) and (3 == 5) -> \"false\"\n",
    "\n",
    "not (5 > 4) -> \"false\"\n",
    "\n",
    "(5 > 4) or (3 == 5) -> \"true\"\n",
    "\n",
    "not ((5 > 4) or (3 == 5)) -> \"false\"\n",
    "\n",
    "(True and True) and (True == False) -> \"false\"\n",
    "\n",
    "(not False) or (not True) –> \"true\""
   ]
  },
  {
   "cell_type": "markdown",
   "id": "2abf0585",
   "metadata": {},
   "source": [
    "# 5. What are the six comparison operators?"
   ]
  },
  {
   "cell_type": "code",
   "execution_count": null,
   "id": "5fce6d05",
   "metadata": {},
   "outputs": [],
   "source": [
    "== (equal to)\n",
    "!= (not equal)\n",
    "> (greater than)\n",
    "< (less than)\n",
    ">= (greater than or equal to)\n",
    "<= (less than or equal to)"
   ]
  },
  {
   "cell_type": "markdown",
   "id": "faff75c4",
   "metadata": {},
   "source": [
    "# 6. How do you tell the difference between the equal to and assignment operators? Describe a condition and when you would use one."
   ]
  },
  {
   "cell_type": "code",
   "execution_count": null,
   "id": "cfe4154b",
   "metadata": {},
   "outputs": [],
   "source": [
    "Assignment operator is represented by single ‘equal to’ symbol. \n",
    "Assignment Operator are used to assign a value to the variable.\n",
    "Example: a = 10\n",
    "\n",
    "While, Equal to operator is represented by double ‘equal to’  symbol. \n",
    "Equal to Operator are used to compare values of two variables.\n",
    "Example:  a == b\n"
   ]
  },
  {
   "cell_type": "markdown",
   "id": "ca919699",
   "metadata": {},
   "source": [
    "# 7. Identify the three blocks in this code:"
   ]
  },
  {
   "cell_type": "code",
   "execution_count": 13,
   "id": "4f3365bf",
   "metadata": {},
   "outputs": [
    {
     "name": "stdout",
     "output_type": "stream",
     "text": [
      "ham\n",
      "spam\n"
     ]
    }
   ],
   "source": [
    "spam = 0\n",
    "# Block 1\n",
    "if spam == 10:\n",
    "    print('eggs')\n",
    "\n",
    "# Block 2\n",
    "if spam > 5:\n",
    "    print('bacon')\n",
    "\n",
    "# Block 3\n",
    "else:\n",
    "    print('ham')\n",
    "\n",
    "print('spam')"
   ]
  },
  {
   "cell_type": "markdown",
   "id": "5f9aa021",
   "metadata": {},
   "source": [
    "# 8. Write code that prints Hello if 1 is stored in spam, prints Howdy if 2 is stored in spam, and prints Greetings! if anything else is stored in spam."
   ]
  },
  {
   "cell_type": "code",
   "execution_count": 15,
   "id": "96045d54",
   "metadata": {},
   "outputs": [
    {
     "name": "stdout",
     "output_type": "stream",
     "text": [
      "2\n",
      "Howdy\n"
     ]
    }
   ],
   "source": [
    "spam = int(input())\n",
    "\n",
    "if spam == 1:\n",
    "    print('Hello')\n",
    "elif spam == 2:\n",
    "    print('Howdy')\n",
    "else:\n",
    "    print('Greetings!')\n",
    "    "
   ]
  },
  {
   "cell_type": "markdown",
   "id": "5b9ce28e",
   "metadata": {},
   "source": [
    "# 9.If your programme is stuck in an endless loop, what keys you’ll press?"
   ]
  },
  {
   "cell_type": "code",
   "execution_count": null,
   "id": "3e1698d3",
   "metadata": {},
   "outputs": [],
   "source": [
    "Ctrl + C"
   ]
  },
  {
   "cell_type": "markdown",
   "id": "428cd5ae",
   "metadata": {},
   "source": [
    "# 10. How can you tell the difference between break and continue?"
   ]
  },
  {
   "cell_type": "code",
   "execution_count": null,
   "id": "e080aa01",
   "metadata": {},
   "outputs": [],
   "source": [
    "Break statement breaks out of the current loop in which it is placed when the condition is found true.\n",
    " While, Continue Statement skips a single iteration in a loop and continues to the next iteration.\n"
   ]
  },
  {
   "cell_type": "markdown",
   "id": "e52b88f0",
   "metadata": {},
   "source": [
    "# 11. In a for loop, what is the difference between range(10), range(0, 10), and range(0, 10, 1)?"
   ]
  },
  {
   "cell_type": "code",
   "execution_count": null,
   "id": "1accc057",
   "metadata": {},
   "outputs": [],
   "source": [
    "range(10) – iterates the loop ten times, indexing from 0 to 9. Starting from 0 (by default), \n",
    "and ends till 10 as the only parameter(but not including 10), and increments by 1 (by default).\n",
    "\n",
    "range(0,10) - iterates the loop ten times, indexing from 0 to 9. starting from 0 as 1st parameter,  \n",
    "and ends till 10 as 2nd parameter(but not including 10),and increments by 1 (by default). \n",
    "\n",
    "range(0, 10, 1) - iterates the loop ten times, indexing from 0 to 9. starting from 0 as 1st parameter,  \n",
    "and ends till 10 as 2nd parameter(but not including 10),and increments by 1 as the 3rd parameter for the function.\n"
   ]
  },
  {
   "cell_type": "markdown",
   "id": "411fda1e",
   "metadata": {},
   "source": [
    "# 12. Write a short program that prints the numbers 1 to 10 using a for loop. Then write an equivalent program that prints the numbers 1 to 10 using a while loop."
   ]
  },
  {
   "cell_type": "code",
   "execution_count": 17,
   "id": "b7476c50",
   "metadata": {},
   "outputs": [
    {
     "name": "stdout",
     "output_type": "stream",
     "text": [
      "1\n",
      "2\n",
      "3\n",
      "4\n",
      "5\n",
      "6\n",
      "7\n",
      "8\n",
      "9\n",
      "10\n"
     ]
    }
   ],
   "source": [
    "for i in range(1,11):\n",
    "    print(i)\n"
   ]
  },
  {
   "cell_type": "code",
   "execution_count": 18,
   "id": "2f36bbed",
   "metadata": {},
   "outputs": [
    {
     "name": "stdout",
     "output_type": "stream",
     "text": [
      "1\n",
      "2\n",
      "3\n",
      "4\n",
      "5\n",
      "6\n",
      "7\n",
      "8\n",
      "9\n",
      "10\n"
     ]
    }
   ],
   "source": [
    "i = 1\n",
    "while i <= 10:\n",
    "    print(i)\n",
    "    i = i + 1"
   ]
  },
  {
   "cell_type": "markdown",
   "id": "427eeaa1",
   "metadata": {},
   "source": [
    "# 13. If you had a function named bacon() inside a module named spam, how would you call it after importing spam?"
   ]
  },
  {
   "cell_type": "code",
   "execution_count": null,
   "id": "56d3f936",
   "metadata": {},
   "outputs": [],
   "source": [
    "from spam import bacon \n",
    "\n",
    "spam()"
   ]
  }
 ],
 "metadata": {
  "kernelspec": {
   "display_name": "Python 3 (ipykernel)",
   "language": "python",
   "name": "python3"
  },
  "language_info": {
   "codemirror_mode": {
    "name": "ipython",
    "version": 3
   },
   "file_extension": ".py",
   "mimetype": "text/x-python",
   "name": "python",
   "nbconvert_exporter": "python",
   "pygments_lexer": "ipython3",
   "version": "3.9.12"
  }
 },
 "nbformat": 4,
 "nbformat_minor": 5
}
