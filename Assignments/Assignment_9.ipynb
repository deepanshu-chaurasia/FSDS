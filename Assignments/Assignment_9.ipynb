{
 "cells": [
  {
   "cell_type": "markdown",
   "id": "ad0bdd84",
   "metadata": {},
   "source": [
    "# 1. To what does a relative path refer?"
   ]
  },
  {
   "cell_type": "markdown",
   "id": "dd91a3b7",
   "metadata": {},
   "source": [
    "A relative path refers to a location that is relative to a current directory. Relative paths make use of two special symbols, a dot (.) and a double-dot (..), which translate into the current directory and the parent directory."
   ]
  },
  {
   "cell_type": "markdown",
   "id": "b91b95af",
   "metadata": {},
   "source": [
    "# 2. What does an absolute path start with your operating system?"
   ]
  },
  {
   "cell_type": "markdown",
   "id": "46e0432b",
   "metadata": {},
   "source": [
    "An absolute path is a path that contains the entire path to the file or directory that you need to access.Absolute path will start at the home directory of your computer and will end with the file or directory that you wish to access."
   ]
  },
  {
   "cell_type": "markdown",
   "id": "91c14f3b",
   "metadata": {},
   "source": [
    "# 3. What do the functions os.getcwd() and os.chdir() do?"
   ]
  },
  {
   "cell_type": "markdown",
   "id": "caa7d611",
   "metadata": {},
   "source": [
    "getcwd() method in Python is used to get the Current Working Directory.\n",
    "    \n",
    "os.chdir() method in Python used to change the current working directory to specified path"
   ]
  },
  {
   "cell_type": "markdown",
   "id": "53344c0f",
   "metadata": {},
   "source": [
    "# 4. What are the . and .. folders?"
   ]
  },
  {
   "cell_type": "markdown",
   "id": "894ab650",
   "metadata": {},
   "source": [
    "Relative paths make use of two special symbols, a dot (.) and a double-dot (..), which translate into the current directory and the parent directory.\n",
    "The (.) is the current directory, while Double dots(..) are used for moving up in the hierarchy."
   ]
  },
  {
   "cell_type": "markdown",
   "id": "16f9629e",
   "metadata": {},
   "source": [
    "# 5. In C:\\bacon\\eggs\\spam.txt, which part is the dir name, and which part is the base name?"
   ]
  },
  {
   "cell_type": "markdown",
   "id": "6de24127",
   "metadata": {},
   "source": [
    "C:\\bacon\\eggs\\ is the dir name.\n",
    "    \n",
    "spam.txt is the base name."
   ]
  },
  {
   "cell_type": "markdown",
   "id": "48a27a0b",
   "metadata": {},
   "source": [
    "# 6. What are the three “mode” arguments that can be passed to the open() function?"
   ]
  },
  {
   "cell_type": "markdown",
   "id": "5a6cd8e4",
   "metadata": {},
   "source": [
    "r - open a file in read mode. \n",
    "\n",
    "w - opens or create a text file in write mode. \n",
    "\n",
    "a - opens a file in append mode."
   ]
  },
  {
   "cell_type": "markdown",
   "id": "c5c5848b",
   "metadata": {},
   "source": [
    "# 7. What happens if an existing file is opened in write mode?"
   ]
  },
  {
   "cell_type": "markdown",
   "id": "d0fe7557",
   "metadata": {},
   "source": [
    "Opening an existion file in write mode allows user to edit or modify the file. One can remove the existing data or enter the new data to the file.  "
   ]
  },
  {
   "cell_type": "markdown",
   "id": "904baf3a",
   "metadata": {},
   "source": [
    "# 8. How do you tell the difference between read() and readlines()?"
   ]
  },
  {
   "cell_type": "markdown",
   "id": "0fcbed22",
   "metadata": {},
   "source": [
    "read() mmethod reads the complete text in the file. It reads the file as an individual string.\n",
    "\n",
    "readlines() method will return all the lines in a file in the format of a list where each element is a line in the file."
   ]
  },
  {
   "cell_type": "markdown",
   "id": "c0f43516",
   "metadata": {},
   "source": [
    "# 9. What data structure does a shelf value resemble?"
   ]
  },
  {
   "cell_type": "markdown",
   "id": "1060af3f",
   "metadata": {},
   "source": [
    "A dictionary Value, with key-values.  "
   ]
  },
  {
   "cell_type": "code",
   "execution_count": null,
   "id": "5b08b5c1",
   "metadata": {},
   "outputs": [],
   "source": []
  }
 ],
 "metadata": {
  "kernelspec": {
   "display_name": "Python 3 (ipykernel)",
   "language": "python",
   "name": "python3"
  },
  "language_info": {
   "codemirror_mode": {
    "name": "ipython",
    "version": 3
   },
   "file_extension": ".py",
   "mimetype": "text/x-python",
   "name": "python",
   "nbconvert_exporter": "python",
   "pygments_lexer": "ipython3",
   "version": "3.9.12"
  }
 },
 "nbformat": 4,
 "nbformat_minor": 5
}
